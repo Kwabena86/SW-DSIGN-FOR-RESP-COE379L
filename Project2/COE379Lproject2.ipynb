{
 "cells": [
  {
   "cell_type": "code",
   "execution_count": 1,
   "id": "8aaa5c71-e5a4-41e4-8e71-86b567349049",
   "metadata": {
    "scrolled": true
   },
   "outputs": [
    {
     "name": "stdout",
     "output_type": "stream",
     "text": [
      "Requirement already satisfied: pandas in /usr/local/lib/python3.11/site-packages (2.1.4)\n",
      "Requirement already satisfied: numpy<2,>=1.23.2 in /usr/local/lib/python3.11/site-packages (from pandas) (1.26.2)\n",
      "Requirement already satisfied: python-dateutil>=2.8.2 in /usr/local/lib/python3.11/site-packages (from pandas) (2.8.2)\n",
      "Requirement already satisfied: pytz>=2020.1 in /usr/local/lib/python3.11/site-packages (from pandas) (2023.3.post1)\n",
      "Requirement already satisfied: tzdata>=2022.1 in /usr/local/lib/python3.11/site-packages (from pandas) (2023.3)\n",
      "Requirement already satisfied: six>=1.5 in /usr/local/lib/python3.11/site-packages (from python-dateutil>=2.8.2->pandas) (1.16.0)\n",
      "\u001b[33mWARNING: Running pip as the 'root' user can result in broken permissions and conflicting behaviour with the system package manager. It is recommended to use a virtual environment instead: https://pip.pypa.io/warnings/venv\u001b[0m\u001b[33m\n",
      "\u001b[0mNote: you may need to restart the kernel to use updated packages.\n"
     ]
    }
   ],
   "source": [
    "pip install pandas\n"
   ]
  },
  {
   "cell_type": "code",
   "execution_count": 3,
   "id": "61819090-5889-4eed-a471-64b0a7e70a3d",
   "metadata": {},
   "outputs": [],
   "source": [
    "import numpy as np\n",
    "import pandas as pd\n",
    "import seaborn as sns\n",
    "from sklearn import tree\n",
    "import matplotlib.pyplot as plt\n",
    "import matplotlib.pyplot as plt\n",
    "from sklearn import datasets\n",
    "from sklearn.model_selection import train_test_split\n",
    "from sklearn.metrics import accuracy_score\n",
    "from sklearn.linear_model import SGDClassifier\n",
    "from sklearn.metrics import ConfusionMatrixDisplay\n",
    "from sklearn.neighbors import KNeighborsClassifier\n",
    "from sklearn.tree import DecisionTreeClassifier\n",
    "from sklearn.metrics import accuracy_score, recall_score, precision_score, f1_score\n",
    "from sklearn.preprocessing import OneHotEncoder\n",
    "from sklearn.metrics import classification_report\n",
    "from sklearn.ensemble import RandomForestClassifier\n",
    "from sklearn.model_selection import GridSearchCV\n",
    "from sklearn.linear_model import LogisticRegression"
   ]
  },
  {
   "cell_type": "markdown",
   "id": "a5ca5a07-b1e1-4467-8925-55b6e5f5a1ed",
   "metadata": {},
   "source": [
    "## PART 1"
   ]
  },
  {
   "cell_type": "code",
   "execution_count": 5,
   "id": "0ee6fc5c-d30a-4990-b4e7-ca3c43b65d4d",
   "metadata": {},
   "outputs": [],
   "source": [
    "projectdata = pd.read_csv('project2.data')"
   ]
  },
  {
   "cell_type": "code",
   "execution_count": 28,
   "id": "7d9de7cc-65de-420b-b001-c754a22d0e2d",
   "metadata": {},
   "outputs": [
    {
     "data": {
      "text/plain": [
       "0      False\n",
       "1      False\n",
       "2      False\n",
       "3      False\n",
       "4      False\n",
       "       ...  \n",
       "281    False\n",
       "282    False\n",
       "283    False\n",
       "284    False\n",
       "285    False\n",
       "Length: 286, dtype: bool"
      ]
     },
     "execution_count": 28,
     "metadata": {},
     "output_type": "execute_result"
    }
   ],
   "source": [
    "projectdata.duplicated()"
   ]
  },
  {
   "cell_type": "code",
   "execution_count": 4,
   "id": "08cfee78-3c84-44d0-a688-abb92cc54260",
   "metadata": {},
   "outputs": [
    {
     "data": {
      "text/plain": [
       "<bound method NDFrame.head of                     class    age menopause tumor-size inv-nodes node-caps  \\\n",
       "0    no-recurrence-events  30-39   premeno      30-34       0-2        no   \n",
       "1    no-recurrence-events  40-49   premeno      20-24       0-2        no   \n",
       "2    no-recurrence-events  40-49   premeno      20-24       0-2        no   \n",
       "3    no-recurrence-events  60-69      ge40      15-19       0-2        no   \n",
       "4    no-recurrence-events  40-49   premeno        0-4       0-2        no   \n",
       "..                    ...    ...       ...        ...       ...       ...   \n",
       "281     recurrence-events  30-39   premeno      30-34       0-2        no   \n",
       "282     recurrence-events  30-39   premeno      20-24       0-2        no   \n",
       "283     recurrence-events  60-69      ge40      20-24       0-2        no   \n",
       "284     recurrence-events  40-49      ge40      30-34       3-5        no   \n",
       "285     recurrence-events  50-59      ge40      30-34       3-5        no   \n",
       "\n",
       "     deg-malig breast breast-quad irradiat  \n",
       "0            3   left    left_low       no  \n",
       "1            2  right    right_up       no  \n",
       "2            2   left    left_low       no  \n",
       "3            2  right     left_up       no  \n",
       "4            2  right   right_low       no  \n",
       "..         ...    ...         ...      ...  \n",
       "281          2   left     left_up       no  \n",
       "282          3   left     left_up      yes  \n",
       "283          1  right     left_up       no  \n",
       "284          3   left    left_low       no  \n",
       "285          3   left    left_low       no  \n",
       "\n",
       "[286 rows x 10 columns]>"
      ]
     },
     "execution_count": 4,
     "metadata": {},
     "output_type": "execute_result"
    }
   ],
   "source": [
    "projectdata.head"
   ]
  },
  {
   "cell_type": "code",
   "execution_count": 5,
   "id": "874cf7e8-964e-4168-994b-ccfb2b2db512",
   "metadata": {},
   "outputs": [
    {
     "data": {
      "text/plain": [
       "2860"
      ]
     },
     "execution_count": 5,
     "metadata": {},
     "output_type": "execute_result"
    }
   ],
   "source": [
    "projectdata.size"
   ]
  },
  {
   "cell_type": "code",
   "execution_count": 6,
   "id": "15349ff2-8bec-40a7-9069-f4d72b6802a3",
   "metadata": {},
   "outputs": [
    {
     "name": "stdout",
     "output_type": "stream",
     "text": [
      "<class 'pandas.core.frame.DataFrame'>\n",
      "RangeIndex: 286 entries, 0 to 285\n",
      "Data columns (total 10 columns):\n",
      " #   Column       Non-Null Count  Dtype \n",
      "---  ------       --------------  ----- \n",
      " 0   class        286 non-null    object\n",
      " 1   age          286 non-null    object\n",
      " 2   menopause    286 non-null    object\n",
      " 3   tumor-size   286 non-null    object\n",
      " 4   inv-nodes    286 non-null    object\n",
      " 5   node-caps    286 non-null    object\n",
      " 6   deg-malig    286 non-null    int64 \n",
      " 7   breast       286 non-null    object\n",
      " 8   breast-quad  286 non-null    object\n",
      " 9   irradiat     286 non-null    object\n",
      "dtypes: int64(1), object(9)\n",
      "memory usage: 22.5+ KB\n"
     ]
    }
   ],
   "source": [
    "projectdata.info()"
   ]
  },
  {
   "cell_type": "markdown",
   "id": "9e18a748-29c9-4361-bda6-bf7c48578432",
   "metadata": {},
   "source": [
    "### The dataset had no missing data or invalid values from the output. There were zeros indicated in the output showing no missing and invalid values."
   ]
  },
  {
   "cell_type": "code",
   "execution_count": 7,
   "id": "3b0f54f5-99b6-4354-a078-2b810ac386b8",
   "metadata": {},
   "outputs": [],
   "source": [
    "missing_data = projectdata.isnull().sum()"
   ]
  },
  {
   "cell_type": "code",
   "execution_count": 8,
   "id": "62917d85-6285-4c59-85fd-0554bef725a0",
   "metadata": {},
   "outputs": [
    {
     "name": "stdout",
     "output_type": "stream",
     "text": [
      "class          0\n",
      "age            0\n",
      "menopause      0\n",
      "tumor-size     0\n",
      "inv-nodes      0\n",
      "node-caps      0\n",
      "deg-malig      0\n",
      "breast         0\n",
      "breast-quad    0\n",
      "irradiat       0\n",
      "dtype: int64\n"
     ]
    }
   ],
   "source": [
    "print(missing_data)"
   ]
  },
  {
   "cell_type": "markdown",
   "id": "95d997f5-829f-43c5-b3df-b3345eea9b62",
   "metadata": {},
   "source": [
    "### There is no missing data or invalid values from the dataset"
   ]
  },
  {
   "cell_type": "code",
   "execution_count": 9,
   "id": "d24fc70b-9d63-4f92-98e6-566917f73a59",
   "metadata": {},
   "outputs": [
    {
     "data": {
      "text/html": [
       "<div>\n",
       "<style scoped>\n",
       "    .dataframe tbody tr th:only-of-type {\n",
       "        vertical-align: middle;\n",
       "    }\n",
       "\n",
       "    .dataframe tbody tr th {\n",
       "        vertical-align: top;\n",
       "    }\n",
       "\n",
       "    .dataframe thead th {\n",
       "        text-align: right;\n",
       "    }\n",
       "</style>\n",
       "<table border=\"1\" class=\"dataframe\">\n",
       "  <thead>\n",
       "    <tr style=\"text-align: right;\">\n",
       "      <th></th>\n",
       "      <th>class</th>\n",
       "      <th>age</th>\n",
       "      <th>menopause</th>\n",
       "      <th>tumor-size</th>\n",
       "      <th>inv-nodes</th>\n",
       "      <th>node-caps</th>\n",
       "      <th>deg-malig</th>\n",
       "      <th>breast</th>\n",
       "      <th>breast-quad</th>\n",
       "      <th>irradiat</th>\n",
       "    </tr>\n",
       "  </thead>\n",
       "  <tbody>\n",
       "    <tr>\n",
       "      <th>0</th>\n",
       "      <td>no-recurrence-events</td>\n",
       "      <td>30-39</td>\n",
       "      <td>premeno</td>\n",
       "      <td>30-34</td>\n",
       "      <td>0-2</td>\n",
       "      <td>no</td>\n",
       "      <td>3</td>\n",
       "      <td>left</td>\n",
       "      <td>left_low</td>\n",
       "      <td>no</td>\n",
       "    </tr>\n",
       "    <tr>\n",
       "      <th>1</th>\n",
       "      <td>no-recurrence-events</td>\n",
       "      <td>40-49</td>\n",
       "      <td>premeno</td>\n",
       "      <td>20-24</td>\n",
       "      <td>0-2</td>\n",
       "      <td>no</td>\n",
       "      <td>2</td>\n",
       "      <td>right</td>\n",
       "      <td>right_up</td>\n",
       "      <td>no</td>\n",
       "    </tr>\n",
       "    <tr>\n",
       "      <th>2</th>\n",
       "      <td>no-recurrence-events</td>\n",
       "      <td>40-49</td>\n",
       "      <td>premeno</td>\n",
       "      <td>20-24</td>\n",
       "      <td>0-2</td>\n",
       "      <td>no</td>\n",
       "      <td>2</td>\n",
       "      <td>left</td>\n",
       "      <td>left_low</td>\n",
       "      <td>no</td>\n",
       "    </tr>\n",
       "    <tr>\n",
       "      <th>3</th>\n",
       "      <td>no-recurrence-events</td>\n",
       "      <td>60-69</td>\n",
       "      <td>ge40</td>\n",
       "      <td>15-19</td>\n",
       "      <td>0-2</td>\n",
       "      <td>no</td>\n",
       "      <td>2</td>\n",
       "      <td>right</td>\n",
       "      <td>left_up</td>\n",
       "      <td>no</td>\n",
       "    </tr>\n",
       "    <tr>\n",
       "      <th>4</th>\n",
       "      <td>no-recurrence-events</td>\n",
       "      <td>40-49</td>\n",
       "      <td>premeno</td>\n",
       "      <td>0-4</td>\n",
       "      <td>0-2</td>\n",
       "      <td>no</td>\n",
       "      <td>2</td>\n",
       "      <td>right</td>\n",
       "      <td>right_low</td>\n",
       "      <td>no</td>\n",
       "    </tr>\n",
       "  </tbody>\n",
       "</table>\n",
       "</div>"
      ],
      "text/plain": [
       "                  class    age menopause tumor-size inv-nodes node-caps  \\\n",
       "0  no-recurrence-events  30-39   premeno      30-34       0-2        no   \n",
       "1  no-recurrence-events  40-49   premeno      20-24       0-2        no   \n",
       "2  no-recurrence-events  40-49   premeno      20-24       0-2        no   \n",
       "3  no-recurrence-events  60-69      ge40      15-19       0-2        no   \n",
       "4  no-recurrence-events  40-49   premeno        0-4       0-2        no   \n",
       "\n",
       "   deg-malig breast breast-quad irradiat  \n",
       "0          3   left    left_low       no  \n",
       "1          2  right    right_up       no  \n",
       "2          2   left    left_low       no  \n",
       "3          2  right     left_up       no  \n",
       "4          2  right   right_low       no  "
      ]
     },
     "execution_count": 9,
     "metadata": {},
     "output_type": "execute_result"
    }
   ],
   "source": [
    "projectdata.head()"
   ]
  },
  {
   "cell_type": "markdown",
   "id": "4c08393b-1c67-46f4-8257-46adc757cff6",
   "metadata": {},
   "source": [
    "### In the dataset, deg-malig datatype is converted from an integer to an object, as indicated below. "
   ]
  },
  {
   "cell_type": "code",
   "execution_count": 10,
   "id": "3a656084-c639-4525-80b6-17889da632cf",
   "metadata": {},
   "outputs": [],
   "source": [
    "projectdata['deg-malig'] = projectdata['deg-malig'].astype(object)"
   ]
  },
  {
   "cell_type": "code",
   "execution_count": 11,
   "id": "7b2eab32-e724-46c7-ab7f-06e4eea64717",
   "metadata": {},
   "outputs": [
    {
     "name": "stdout",
     "output_type": "stream",
     "text": [
      "<class 'pandas.core.frame.DataFrame'>\n",
      "RangeIndex: 286 entries, 0 to 285\n",
      "Data columns (total 10 columns):\n",
      " #   Column       Non-Null Count  Dtype \n",
      "---  ------       --------------  ----- \n",
      " 0   class        286 non-null    object\n",
      " 1   age          286 non-null    object\n",
      " 2   menopause    286 non-null    object\n",
      " 3   tumor-size   286 non-null    object\n",
      " 4   inv-nodes    286 non-null    object\n",
      " 5   node-caps    286 non-null    object\n",
      " 6   deg-malig    286 non-null    object\n",
      " 7   breast       286 non-null    object\n",
      " 8   breast-quad  286 non-null    object\n",
      " 9   irradiat     286 non-null    object\n",
      "dtypes: object(10)\n",
      "memory usage: 22.5+ KB\n"
     ]
    }
   ],
   "source": [
    "projectdata.info()"
   ]
  },
  {
   "cell_type": "markdown",
   "id": "0aa77c38-e732-43e7-b253-82a43161240d",
   "metadata": {},
   "source": [
    "### Visualize the dataset through different univariate analysis and comment on your observations"
   ]
  },
  {
   "cell_type": "code",
   "execution_count": 31,
   "id": "074a2db9-2c28-40a7-a6cc-0f738b4ecf90",
   "metadata": {},
   "outputs": [
    {
     "data": {
      "text/plain": [
       "<Axes: xlabel='inv-nodes', ylabel='Count'>"
      ]
     },
     "execution_count": 31,
     "metadata": {},
     "output_type": "execute_result"
    },
    {
     "data": {
      "image/png": "[encoded data removed]",
      "text/plain": [
       "<Figure size 640x480 with 1 Axes>"
      ]
     },
     "metadata": {},
     "output_type": "display_data"
    }
   ],
   "source": [
    "sns.histplot(data=projectdata['inv-nodes'])"
   ]
  },
  {
   "cell_type": "markdown",
   "id": "18afd8e4-3105-4e38-b4e6-85875d697654",
   "metadata": {},
   "source": [
    "#### The histogram above shows the number of involved lymph nodes. It reflects the counts for different categorical variables. In the diagram, the categorical variable ranges from 0-2 to 24-26. The highest count is from category 0-2 followed by 3-5. The lowest count was 24-26 for the count.      "
   ]
  },
  {
   "cell_type": "code",
   "execution_count": 26,
   "id": "cbc65440-e5ba-4cbd-8fb9-e37842126cfd",
   "metadata": {},
   "outputs": [
    {
     "name": "stdout",
     "output_type": "stream",
     "text": [
      "col_0   breast-quad\n",
      "breast             \n",
      "left            152\n",
      "right           134\n"
     ]
    }
   ],
   "source": [
    "frequency_table = pd.crosstab(index=projectdata['breast'], columns='breast-quad')\n",
    "print(frequency_table)"
   ]
  },
  {
   "cell_type": "code",
   "execution_count": 21,
   "id": "7c5ab57c-548b-4bb5-86f0-0f586ba23fd3",
   "metadata": {},
   "outputs": [
    {
     "data": {
      "text/plain": [
       "<Axes: xlabel='age', ylabel='Count'>"
      ]
     },
     "execution_count": 21,
     "metadata": {},
     "output_type": "execute_result"
    },
    {
     "data": {
      "image/png": "[encoded data removed]",
      "text/plain": [
       "<Figure size 640x480 with 1 Axes>"
      ]
     },
     "metadata": {},
     "output_type": "display_data"
    }
   ],
   "source": [
    "sns.histplot(data=projectdata['age'], bins=50 )"
   ]
  },
  {
   "cell_type": "markdown",
   "id": "d31316b5-16c4-4013-b1c2-8ce15210b3fc",
   "metadata": {},
   "source": [
    "#### Histo. above indicate the age ranges from the dataset. The most count is between 50-59 and the lowest from 20-29 "
   ]
  },
  {
   "cell_type": "code",
   "execution_count": 13,
   "id": "0a93ae83-4b36-4b3a-ba0a-cab111e1359f",
   "metadata": {},
   "outputs": [
    {
     "data": {
      "image/png": "[encoded data removed]",
      "text/plain": [
       "<Figure size 640x480 with 1 Axes>"
      ]
     },
     "metadata": {},
     "output_type": "display_data"
    }
   ],
   "source": [
    "sns.countplot(x=projectdata['tumor-size'])\n",
    "plt.xticks(rotation=90)\n",
    "plt.show()"
   ]
  },
  {
   "cell_type": "markdown",
   "id": "95d1b976-3b2c-4b05-b226-32cd061b43f1",
   "metadata": {},
   "source": [
    "#### The graph above indicates the count of tumor-size for different age ranges. This dataset shows that tumor-size was significant for the ages from 30-34 and lowest 45-49.    "
   ]
  },
  {
   "cell_type": "code",
   "execution_count": 14,
   "id": "18866830-e4ae-4a7c-a25b-f1efb023272e",
   "metadata": {},
   "outputs": [
    {
     "data": {
      "text/plain": [
       "<Axes: xlabel='menopause', ylabel='count'>"
      ]
     },
     "execution_count": 14,
     "metadata": {},
     "output_type": "execute_result"
    },
    {
     "data": {
      "image/png": "[encoded data removed]",
      "text/plain": [
       "<Figure size 640x480 with 1 Axes>"
      ]
     },
     "metadata": {},
     "output_type": "display_data"
    }
   ],
   "source": [
    "sns.countplot(x=projectdata['menopause'], hue=projectdata['tumor-size'])"
   ]
  },
  {
   "cell_type": "code",
   "execution_count": 29,
   "id": "315d32af-ae21-481b-9701-40ba3bb8d420",
   "metadata": {},
   "outputs": [
    {
     "data": {
      "text/plain": [
       "<Axes: xlabel='tumor-size'>"
      ]
     },
     "execution_count": 29,
     "metadata": {},
     "output_type": "execute_result"
    },
    {
     "data": {
      "image/png": "[encoded data removed]",
      "text/plain": [
       "<Figure size 640x480 with 1 Axes>"
      ]
     },
     "metadata": {},
     "output_type": "display_data"
    }
   ],
   "source": [
    "sns.boxplot(data=projectdata, x='tumor-size')"
   ]
  },
  {
   "cell_type": "markdown",
   "id": "d749c238-5949-4139-85db-f80456b57be3",
   "metadata": {},
   "source": [
    "#### The box plot shows the split of tumor-size, the dataset is skewed to the right because most of the dataset follows a trend to a specific age range.   "
   ]
  },
  {
   "cell_type": "code",
   "execution_count": 15,
   "id": "3a986b3d-dbf5-4c13-a37d-7211dc15585d",
   "metadata": {},
   "outputs": [
    {
     "name": "stdout",
     "output_type": "stream",
     "text": [
      "                  class deg-malig  age_20-29  age_30-39  age_40-49  age_50-59  \\\n",
      "0  no-recurrence-events         3      False       True      False      False   \n",
      "1  no-recurrence-events         2      False      False       True      False   \n",
      "2  no-recurrence-events         2      False      False       True      False   \n",
      "3  no-recurrence-events         2      False      False      False      False   \n",
      "4  no-recurrence-events         2      False      False       True      False   \n",
      "\n",
      "   age_60-69  age_70-79  menopause_ge40  menopause_lt40  ...  breast_left  \\\n",
      "0      False      False           False           False  ...         True   \n",
      "1      False      False           False           False  ...        False   \n",
      "2      False      False           False           False  ...         True   \n",
      "3       True      False            True           False  ...        False   \n",
      "4      False      False           False           False  ...        False   \n",
      "\n",
      "   breast_right  breast-quad_?  breast-quad_central  breast-quad_left_low  \\\n",
      "0         False          False                False                  True   \n",
      "1          True          False                False                 False   \n",
      "2         False          False                False                  True   \n",
      "3          True          False                False                 False   \n",
      "4          True          False                False                 False   \n",
      "\n",
      "   breast-quad_left_up  breast-quad_right_low  breast-quad_right_up  \\\n",
      "0                False                  False                 False   \n",
      "1                False                  False                  True   \n",
      "2                False                  False                 False   \n",
      "3                 True                  False                 False   \n",
      "4                False                   True                 False   \n",
      "\n",
      "   irradiat_no  irradiat_yes  \n",
      "0         True         False  \n",
      "1         True         False  \n",
      "2         True         False  \n",
      "3         True         False  \n",
      "4         True         False  \n",
      "\n",
      "[5 rows x 42 columns]\n"
     ]
    }
   ],
   "source": [
    "project2_one_hot_encoded = pd.get_dummies(projectdata, columns=['age', 'menopause', 'tumor-size', 'inv-nodes', 'node-caps', 'breast', 'breast-quad', 'irradiat'])\n",
    "print(project2_one_hot_encoded.head())"
   ]
  },
  {
   "cell_type": "markdown",
   "id": "19eedd58-8db4-43ea-838d-d5da77b29f97",
   "metadata": {},
   "source": [
    "#### One-hot encoding  on categorical variable, that show "
   ]
  },
  {
   "cell_type": "code",
   "execution_count": 16,
   "id": "dacc81a2-f80c-42fe-91c1-ecb61d35f43b",
   "metadata": {},
   "outputs": [],
   "source": [
    "X = projectdata.drop(['class'], axis=1)  \n",
    "y = projectdata['class'] \n",
    "X_train, X_test, y_train, y_test = train_test_split(X, y, test_size=0.3, random_state=1)\n"
   ]
  },
  {
   "cell_type": "code",
   "execution_count": 17,
   "id": "2f0943fc-d84d-4c30-a28f-2fee38a3912a",
   "metadata": {},
   "outputs": [
    {
     "name": "stdout",
     "output_type": "stream",
     "text": [
      "X_train shape: (200, 9)\n",
      "X_test shape: (86, 9)\n",
      "y_train shape: (200,)\n",
      "y_test shape: (86,)\n"
     ]
    }
   ],
   "source": [
    "print(\"X_train shape:\", X_train.shape)\n",
    "print(\"X_test shape:\", X_test.shape)\n",
    "print(\"y_train shape:\", y_train.shape)\n",
    "print(\"y_test shape:\", y_test.shape)"
   ]
  },
  {
   "cell_type": "markdown",
   "id": "3f7ca233-883d-4b6b-aeb1-1a887de82e03",
   "metadata": {},
   "source": [
    "## PART 2"
   ]
  },
  {
   "cell_type": "markdown",
   "id": "3607febe-978a-4666-9b5c-fe5de04e37ea",
   "metadata": {},
   "source": [
    "### K-Nearest Neighbor Classifier"
   ]
  },
  {
   "cell_type": "code",
   "execution_count": 18,
   "id": "e561a5e6-8b60-441e-b3af-4c6dfeb22867",
   "metadata": {},
   "outputs": [
    {
     "name": "stdout",
     "output_type": "stream",
     "text": [
      "Accuracy of knn on test data is: 0.79\n",
      "Accuracy of knn on train data is: 0.82\n"
     ]
    }
   ],
   "source": [
    "# Combine training and testing data\n",
    "combined_projectdata = pd.concat([X_train, X_test])\n",
    "\n",
    "# Encode categorical variables\n",
    "encoder = OneHotEncoder(handle_unknown='ignore')\n",
    "combined_projectdata_encoded = encoder.fit_transform(combined_projectdata)\n",
    "\n",
    "X_train_projectdata_encoded = combined_projectdata_encoded[:len(X_train)]\n",
    "X_test_projectdata_encoded = combined_projectdata_encoded[len(X_train):]\n",
    "\n",
    "# Initialize and fit the KNeighborsClassifier\n",
    "knn = KNeighborsClassifier(n_neighbors=3)\n",
    "knn.fit(X_train_projectdata_encoded, y_train)\n",
    "\n",
    "accuracy_test = accuracy_score(y_test, knn.predict(X_test_projectdata_encoded))\n",
    "print('Accuracy of knn on test data is: {:.2f}'.format(accuracy_test))\n",
    "\n",
    "accuracy_train = accuracy_score(y_train, knn.predict(X_train_projectdata_encoded))\n",
    "print('Accuracy of knn on train data is: {:.2f}'.format(accuracy_train))\n"
   ]
  },
  {
   "cell_type": "markdown",
   "id": "ce39d8a6-0407-4830-abe7-73404553f8f8",
   "metadata": {},
   "source": [
    "### Decision Trees Classifier"
   ]
  },
  {
   "cell_type": "code",
   "execution_count": 19,
   "id": "3f6d2a40-3ab4-46e6-8436-9fbc51b95758",
   "metadata": {},
   "outputs": [
    {
     "name": "stdout",
     "output_type": "stream",
     "text": [
      "Accuracy: 0.6744186046511628\n",
      "Performance on TEST\n",
      "*******************\n",
      "                      precision    recall  f1-score   support\n",
      "\n",
      "no-recurrence-events       0.74      0.83      0.78        60\n",
      "   recurrence-events       0.44      0.31      0.36        26\n",
      "\n",
      "            accuracy                           0.67        86\n",
      "           macro avg       0.59      0.57      0.57        86\n",
      "        weighted avg       0.65      0.67      0.65        86\n",
      "\n",
      "Performance on TRAIN\n",
      "********************\n",
      "                      precision    recall  f1-score   support\n",
      "\n",
      "no-recurrence-events       0.96      1.00      0.98       141\n",
      "   recurrence-events       1.00      0.90      0.95        59\n",
      "\n",
      "            accuracy                           0.97       200\n",
      "           macro avg       0.98      0.95      0.96       200\n",
      "        weighted avg       0.97      0.97      0.97       200\n",
      "\n"
     ]
    }
   ],
   "source": [
    "\n",
    "# Encode categorical variables\n",
    "encoder = OneHotEncoder()\n",
    "X_encoded = encoder.fit_transform(X)\n",
    "\n",
    "# Split the data into training and testing sets\n",
    "X_train, X_test, y_train, y_test = train_test_split(X_encoded, y, test_size=0.3, stratify=y, random_state=1)\n",
    "\n",
    "# Initialize the DecisionTreeClassifier\n",
    "dt_classifier = DecisionTreeClassifier(random_state=1)\n",
    "\n",
    "# Train the classifier on the training data\n",
    "dt_classifier.fit(X_train, y_train)\n",
    "\n",
    "# Predict the labels of the test set\n",
    "y_pred = dt_classifier.predict(X_test)\n",
    "\n",
    "# Evaluate the accuracy of the classifier\n",
    "accuracy = accuracy_score(y_test, y_pred)\n",
    "from sklearn.preprocessing import OneHotEncoder\n",
    "\n",
    "# Encode categorical variables\n",
    "encoder = OneHotEncoder()\n",
    "X_encoded = encoder.fit_transform(X)\n",
    "\n",
    "# Split the data into training and testing sets\n",
    "X_train, X_test, y_train, y_test = train_test_split(X_encoded, y, test_size=0.3, stratify=y, random_state=1)\n",
    "\n",
    "# Initialize the DecisionTreeClassifier\n",
    "dt_classifier = DecisionTreeClassifier(random_state=1)\n",
    "\n",
    "# Train the classifier on the training data\n",
    "dt_classifier.fit(X_train, y_train)\n",
    "\n",
    "# Predict the labels of the test set\n",
    "y_pred = dt_classifier.predict(X_test)\n",
    "model = DecisionTreeClassifier(random_state=1).fit(X_train, y_train)\n",
    "\n",
    "# Evaluate the accuracy of the classifier\n",
    "accuracy = accuracy_score(y_test, y_pred)\n",
    "print(\"Accuracy:\", accuracy)\n",
    "print(f\"Performance on TEST\\n*******************\\n{classification_report(y_test, model.predict(X_test))}\")\n",
    "print(f\"Performance on TRAIN\\n********************\\n{classification_report(y_train, model.predict(X_train))}\")\n"
   ]
  },
  {
   "cell_type": "code",
   "execution_count": 20,
   "id": "b2dfb096-eeb2-42e7-8dea-1148ddd9ac64",
   "metadata": {},
   "outputs": [
    {
     "data": {
      "text/plain": [
       "[Text(0.7879660087719298, 0.9705882352941176, 'x[29] <= 0.5\\ngini = 0.416\\nsamples = 200\\nvalue = [141, 59]'),\n",
       " Text(0.6899671052631579, 0.9117647058823529, 'x[10] <= 0.5\\ngini = 0.34\\nsamples = 161\\nvalue = [126, 35]'),\n",
       " Text(0.6724232456140351, 0.8529411764705882, 'x[24] <= 0.5\\ngini = 0.375\\nsamples = 140\\nvalue = [105, 35]'),\n",
       " Text(0.6080043859649122, 0.7941176470588235, 'x[35] <= 0.5\\ngini = 0.349\\nsamples = 129\\nvalue = [100, 29]'),\n",
       " Text(0.5904605263157895, 0.7352941176470589, 'x[7] <= 0.5\\ngini = 0.342\\nsamples = 128\\nvalue = [100, 28]'),\n",
       " Text(0.5142543859649122, 0.6764705882352942, 'x[30] <= 0.5\\ngini = 0.329\\nsamples = 125\\nvalue = [99, 26]'),\n",
       " Text(0.4144736842105263, 0.6176470588235294, 'x[15] <= 0.5\\ngini = 0.372\\nsamples = 89\\nvalue = [67, 22]'),\n",
       " Text(0.3201754385964912, 0.5588235294117647, 'x[13] <= 0.5\\ngini = 0.353\\nsamples = 83\\nvalue = [64, 19]'),\n",
       " Text(0.18421052631578946, 0.5, 'x[34] <= 0.5\\ngini = 0.305\\nsamples = 64\\nvalue = [52, 12]'),\n",
       " Text(0.08771929824561403, 0.4411764705882353, 'x[6] <= 0.5\\ngini = 0.198\\nsamples = 36\\nvalue = [32, 4]'),\n",
       " Text(0.07017543859649122, 0.38235294117647056, 'x[11] <= 0.5\\ngini = 0.32\\nsamples = 20\\nvalue = [16, 4]'),\n",
       " Text(0.03508771929824561, 0.3235294117647059, 'x[31] <= 0.5\\ngini = 0.208\\nsamples = 17\\nvalue = [15, 2]'),\n",
       " Text(0.017543859649122806, 0.2647058823529412, 'gini = 0.0\\nsamples = 5\\nvalue = [5, 0]'),\n",
       " Text(0.05263157894736842, 0.2647058823529412, 'x[39] <= 0.5\\ngini = 0.278\\nsamples = 12\\nvalue = [10, 2]'),\n",
       " Text(0.03508771929824561, 0.20588235294117646, 'x[41] <= 0.5\\ngini = 0.346\\nsamples = 9\\nvalue = [7, 2]'),\n",
       " Text(0.017543859649122806, 0.14705882352941177, 'gini = 0.0\\nsamples = 2\\nvalue = [2, 0]'),\n",
       " Text(0.05263157894736842, 0.14705882352941177, 'x[37] <= 0.5\\ngini = 0.408\\nsamples = 7\\nvalue = [5, 2]'),\n",
       " Text(0.03508771929824561, 0.08823529411764706, 'x[1] <= 0.5\\ngini = 0.32\\nsamples = 5\\nvalue = [4, 1]'),\n",
       " Text(0.017543859649122806, 0.029411764705882353, 'gini = 0.0\\nsamples = 3\\nvalue = [3, 0]'),\n",
       " Text(0.05263157894736842, 0.029411764705882353, 'gini = 0.5\\nsamples = 2\\nvalue = [1, 1]'),\n",
       " Text(0.07017543859649122, 0.08823529411764706, 'gini = 0.5\\nsamples = 2\\nvalue = [1, 1]'),\n",
       " Text(0.07017543859649122, 0.20588235294117646, 'gini = 0.0\\nsamples = 3\\nvalue = [3, 0]'),\n",
       " Text(0.10526315789473684, 0.3235294117647059, 'x[37] <= 0.5\\ngini = 0.444\\nsamples = 3\\nvalue = [1, 2]'),\n",
       " Text(0.08771929824561403, 0.2647058823529412, 'gini = 0.0\\nsamples = 1\\nvalue = [0, 1]'),\n",
       " Text(0.12280701754385964, 0.2647058823529412, 'x[3] <= 0.5\\ngini = 0.5\\nsamples = 2\\nvalue = [1, 1]'),\n",
       " Text(0.10526315789473684, 0.20588235294117646, 'gini = 0.0\\nsamples = 1\\nvalue = [1, 0]'),\n",
       " Text(0.14035087719298245, 0.20588235294117646, 'gini = 0.0\\nsamples = 1\\nvalue = [0, 1]'),\n",
       " Text(0.10526315789473684, 0.38235294117647056, 'gini = 0.0\\nsamples = 16\\nvalue = [16, 0]'),\n",
       " Text(0.2807017543859649, 0.4411764705882353, 'x[36] <= 0.5\\ngini = 0.408\\nsamples = 28\\nvalue = [20, 8]'),\n",
       " Text(0.22807017543859648, 0.38235294117647056, 'x[4] <= 0.5\\ngini = 0.33\\nsamples = 24\\nvalue = [19, 5]'),\n",
       " Text(0.17543859649122806, 0.3235294117647059, 'x[40] <= 0.5\\ngini = 0.117\\nsamples = 16\\nvalue = [15, 1]'),\n",
       " Text(0.15789473684210525, 0.2647058823529412, 'gini = 0.0\\nsamples = 12\\nvalue = [12, 0]'),\n",
       " Text(0.19298245614035087, 0.2647058823529412, 'x[32] <= 0.5\\ngini = 0.375\\nsamples = 4\\nvalue = [3, 1]'),\n",
       " Text(0.17543859649122806, 0.20588235294117646, 'gini = 0.0\\nsamples = 2\\nvalue = [2, 0]'),\n",
       " Text(0.21052631578947367, 0.20588235294117646, 'gini = 0.5\\nsamples = 2\\nvalue = [1, 1]'),\n",
       " Text(0.2807017543859649, 0.3235294117647059, 'x[11] <= 0.5\\ngini = 0.5\\nsamples = 8\\nvalue = [4, 4]'),\n",
       " Text(0.2631578947368421, 0.2647058823529412, 'x[32] <= 0.5\\ngini = 0.32\\nsamples = 5\\nvalue = [1, 4]'),\n",
       " Text(0.24561403508771928, 0.20588235294117646, 'x[16] <= 0.5\\ngini = 0.5\\nsamples = 2\\nvalue = [1, 1]'),\n",
       " Text(0.22807017543859648, 0.14705882352941177, 'gini = 0.0\\nsamples = 1\\nvalue = [1, 0]'),\n",
       " Text(0.2631578947368421, 0.14705882352941177, 'gini = 0.0\\nsamples = 1\\nvalue = [0, 1]'),\n",
       " Text(0.2807017543859649, 0.20588235294117646, 'gini = 0.0\\nsamples = 3\\nvalue = [0, 3]'),\n",
       " Text(0.2982456140350877, 0.2647058823529412, 'gini = 0.0\\nsamples = 3\\nvalue = [3, 0]'),\n",
       " Text(0.3333333333333333, 0.38235294117647056, 'x[9] <= 0.5\\ngini = 0.375\\nsamples = 4\\nvalue = [1, 3]'),\n",
       " Text(0.3157894736842105, 0.3235294117647059, 'gini = 0.0\\nsamples = 2\\nvalue = [0, 2]'),\n",
       " Text(0.3508771929824561, 0.3235294117647059, 'gini = 0.5\\nsamples = 2\\nvalue = [1, 1]'),\n",
       " Text(0.45614035087719296, 0.5, 'x[42] <= 0.5\\ngini = 0.465\\nsamples = 19\\nvalue = [12, 7]'),\n",
       " Text(0.42105263157894735, 0.4411764705882353, 'x[6] <= 0.5\\ngini = 0.408\\nsamples = 14\\nvalue = [10, 4]'),\n",
       " Text(0.40350877192982454, 0.38235294117647056, 'x[40] <= 0.5\\ngini = 0.494\\nsamples = 9\\nvalue = [5, 4]'),\n",
       " Text(0.38596491228070173, 0.3235294117647059, 'x[2] <= 0.5\\ngini = 0.408\\nsamples = 7\\nvalue = [5, 2]'),\n",
       " Text(0.3684210526315789, 0.2647058823529412, 'gini = 0.0\\nsamples = 4\\nvalue = [4, 0]'),\n",
       " Text(0.40350877192982454, 0.2647058823529412, 'x[38] <= 0.5\\ngini = 0.444\\nsamples = 3\\nvalue = [1, 2]'),\n",
       " Text(0.38596491228070173, 0.20588235294117646, 'gini = 0.5\\nsamples = 2\\nvalue = [1, 1]'),\n",
       " Text(0.42105263157894735, 0.20588235294117646, 'gini = 0.0\\nsamples = 1\\nvalue = [0, 1]'),\n",
       " Text(0.42105263157894735, 0.3235294117647059, 'gini = 0.0\\nsamples = 2\\nvalue = [0, 2]'),\n",
       " Text(0.43859649122807015, 0.38235294117647056, 'gini = 0.0\\nsamples = 5\\nvalue = [5, 0]'),\n",
       " Text(0.49122807017543857, 0.4411764705882353, 'x[37] <= 0.5\\ngini = 0.48\\nsamples = 5\\nvalue = [2, 3]'),\n",
       " Text(0.47368421052631576, 0.38235294117647056, 'x[4] <= 0.5\\ngini = 0.444\\nsamples = 3\\nvalue = [2, 1]'),\n",
       " Text(0.45614035087719296, 0.3235294117647059, 'gini = 0.0\\nsamples = 2\\nvalue = [2, 0]'),\n",
       " Text(0.49122807017543857, 0.3235294117647059, 'gini = 0.0\\nsamples = 1\\nvalue = [0, 1]'),\n",
       " Text(0.5087719298245614, 0.38235294117647056, 'gini = 0.0\\nsamples = 2\\nvalue = [0, 2]'),\n",
       " Text(0.5087719298245614, 0.5588235294117647, 'x[37] <= 0.5\\ngini = 0.5\\nsamples = 6\\nvalue = [3, 3]'),\n",
       " Text(0.49122807017543857, 0.5, 'gini = 0.0\\nsamples = 3\\nvalue = [3, 0]'),\n",
       " Text(0.5263157894736842, 0.5, 'gini = 0.0\\nsamples = 3\\nvalue = [0, 3]'),\n",
       " Text(0.6140350877192983, 0.6176470588235294, 'x[6] <= 0.5\\ngini = 0.198\\nsamples = 36\\nvalue = [32, 4]'),\n",
       " Text(0.5964912280701754, 0.5588235294117647, 'x[37] <= 0.5\\ngini = 0.346\\nsamples = 18\\nvalue = [14, 4]'),\n",
       " Text(0.5614035087719298, 0.5, 'x[3] <= 0.5\\ngini = 0.198\\nsamples = 9\\nvalue = [8, 1]'),\n",
       " Text(0.543859649122807, 0.4411764705882353, 'gini = 0.0\\nsamples = 7\\nvalue = [7, 0]'),\n",
       " Text(0.5789473684210527, 0.4411764705882353, 'gini = 0.5\\nsamples = 2\\nvalue = [1, 1]'),\n",
       " Text(0.631578947368421, 0.5, 'x[16] <= 0.5\\ngini = 0.444\\nsamples = 9\\nvalue = [6, 3]'),\n",
       " Text(0.6140350877192983, 0.4411764705882353, 'x[13] <= 0.5\\ngini = 0.375\\nsamples = 8\\nvalue = [6, 2]'),\n",
       " Text(0.5964912280701754, 0.38235294117647056, 'x[41] <= 0.5\\ngini = 0.444\\nsamples = 6\\nvalue = [4, 2]'),\n",
       " Text(0.5789473684210527, 0.3235294117647059, 'gini = 0.0\\nsamples = 1\\nvalue = [0, 1]'),\n",
       " Text(0.6140350877192983, 0.3235294117647059, 'x[33] <= 0.5\\ngini = 0.32\\nsamples = 5\\nvalue = [4, 1]'),\n",
       " Text(0.5964912280701754, 0.2647058823529412, 'gini = 0.0\\nsamples = 1\\nvalue = [0, 1]'),\n",
       " Text(0.631578947368421, 0.2647058823529412, 'gini = 0.0\\nsamples = 4\\nvalue = [4, 0]'),\n",
       " Text(0.631578947368421, 0.38235294117647056, 'gini = 0.0\\nsamples = 2\\nvalue = [2, 0]'),\n",
       " Text(0.6491228070175439, 0.4411764705882353, 'gini = 0.0\\nsamples = 1\\nvalue = [0, 1]'),\n",
       " Text(0.631578947368421, 0.5588235294117647, 'gini = 0.0\\nsamples = 18\\nvalue = [18, 0]'),\n",
       " Text(0.6666666666666666, 0.6764705882352942, 'x[27] <= 0.5\\ngini = 0.444\\nsamples = 3\\nvalue = [1, 2]'),\n",
       " Text(0.6491228070175439, 0.6176470588235294, 'gini = 0.0\\nsamples = 1\\nvalue = [1, 0]'),\n",
       " Text(0.6842105263157895, 0.6176470588235294, 'gini = 0.0\\nsamples = 2\\nvalue = [0, 2]'),\n",
       " Text(0.6255482456140351, 0.7352941176470589, 'gini = 0.0\\nsamples = 1\\nvalue = [0, 1]'),\n",
       " Text(0.7368421052631579, 0.7941176470588235, 'x[14] <= 0.5\\ngini = 0.496\\nsamples = 11\\nvalue = [5, 6]'),\n",
       " Text(0.7192982456140351, 0.7352941176470589, 'x[34] <= 0.5\\ngini = 0.408\\nsamples = 7\\nvalue = [5, 2]'),\n",
       " Text(0.7017543859649122, 0.6764705882352942, 'gini = 0.0\\nsamples = 1\\nvalue = [0, 1]'),\n",
       " Text(0.7368421052631579, 0.6764705882352942, 'x[40] <= 0.5\\ngini = 0.278\\nsamples = 6\\nvalue = [5, 1]'),\n",
       " Text(0.7192982456140351, 0.6176470588235294, 'gini = 0.0\\nsamples = 4\\nvalue = [4, 0]'),\n",
       " Text(0.7543859649122807, 0.6176470588235294, 'x[6] <= 0.5\\ngini = 0.5\\nsamples = 2\\nvalue = [1, 1]'),\n",
       " Text(0.7368421052631579, 0.5588235294117647, 'gini = 0.0\\nsamples = 1\\nvalue = [1, 0]'),\n",
       " Text(0.7719298245614035, 0.5588235294117647, 'gini = 0.0\\nsamples = 1\\nvalue = [0, 1]'),\n",
       " Text(0.7543859649122807, 0.7352941176470589, 'gini = 0.0\\nsamples = 4\\nvalue = [0, 4]'),\n",
       " Text(0.7075109649122807, 0.8529411764705882, 'gini = 0.0\\nsamples = 21\\nvalue = [21, 0]'),\n",
       " Text(0.8859649122807017, 0.9117647058823529, 'x[34] <= 0.5\\ngini = 0.473\\nsamples = 39\\nvalue = [15, 24]'),\n",
       " Text(0.8245614035087719, 0.8529411764705882, 'x[20] <= 0.5\\ngini = 0.308\\nsamples = 21\\nvalue = [4, 17]'),\n",
       " Text(0.8070175438596491, 0.7941176470588235, 'x[24] <= 0.5\\ngini = 0.255\\nsamples = 20\\nvalue = [3, 17]'),\n",
       " Text(0.7894736842105263, 0.7352941176470589, 'gini = 0.0\\nsamples = 12\\nvalue = [0, 12]'),\n",
       " Text(0.8245614035087719, 0.7352941176470589, 'x[3] <= 0.5\\ngini = 0.469\\nsamples = 8\\nvalue = [3, 5]'),\n",
       " Text(0.8070175438596491, 0.6764705882352942, 'x[4] <= 0.5\\ngini = 0.278\\nsamples = 6\\nvalue = [1, 5]'),\n",
       " Text(0.7894736842105263, 0.6176470588235294, 'gini = 0.0\\nsamples = 4\\nvalue = [0, 4]'),\n",
       " Text(0.8245614035087719, 0.6176470588235294, 'x[41] <= 0.5\\ngini = 0.5\\nsamples = 2\\nvalue = [1, 1]'),\n",
       " Text(0.8070175438596491, 0.5588235294117647, 'gini = 0.0\\nsamples = 1\\nvalue = [0, 1]'),\n",
       " Text(0.8421052631578947, 0.5588235294117647, 'gini = 0.0\\nsamples = 1\\nvalue = [1, 0]'),\n",
       " Text(0.8421052631578947, 0.6764705882352942, 'gini = 0.0\\nsamples = 2\\nvalue = [2, 0]'),\n",
       " Text(0.8421052631578947, 0.7941176470588235, 'gini = 0.0\\nsamples = 1\\nvalue = [1, 0]'),\n",
       " Text(0.9473684210526315, 0.8529411764705882, 'x[15] <= 0.5\\ngini = 0.475\\nsamples = 18\\nvalue = [11, 7]'),\n",
       " Text(0.9298245614035088, 0.7941176470588235, 'x[31] <= 0.5\\ngini = 0.498\\nsamples = 15\\nvalue = [8, 7]'),\n",
       " Text(0.8947368421052632, 0.7352941176470589, 'x[22] <= 0.5\\ngini = 0.32\\nsamples = 5\\nvalue = [1, 4]'),\n",
       " Text(0.8771929824561403, 0.6764705882352942, 'gini = 0.0\\nsamples = 4\\nvalue = [0, 4]'),\n",
       " Text(0.9122807017543859, 0.6764705882352942, 'gini = 0.0\\nsamples = 1\\nvalue = [1, 0]'),\n",
       " Text(0.9649122807017544, 0.7352941176470589, 'x[26] <= 0.5\\ngini = 0.42\\nsamples = 10\\nvalue = [7, 3]'),\n",
       " Text(0.9473684210526315, 0.6764705882352942, 'x[40] <= 0.5\\ngini = 0.346\\nsamples = 9\\nvalue = [7, 2]'),\n",
       " Text(0.9298245614035088, 0.6176470588235294, 'gini = 0.0\\nsamples = 5\\nvalue = [5, 0]'),\n",
       " Text(0.9649122807017544, 0.6176470588235294, 'x[25] <= 0.5\\ngini = 0.5\\nsamples = 4\\nvalue = [2, 2]'),\n",
       " Text(0.9473684210526315, 0.5588235294117647, 'gini = 0.0\\nsamples = 2\\nvalue = [0, 2]'),\n",
       " Text(0.9824561403508771, 0.5588235294117647, 'gini = 0.0\\nsamples = 2\\nvalue = [2, 0]'),\n",
       " Text(0.9824561403508771, 0.6764705882352942, 'gini = 0.0\\nsamples = 1\\nvalue = [0, 1]'),\n",
       " Text(0.9649122807017544, 0.7941176470588235, 'gini = 0.0\\nsamples = 3\\nvalue = [3, 0]')]"
      ]
     },
     "execution_count": 20,
     "metadata": {},
     "output_type": "execute_result"
    },
    {
     "data": {
      "image/png": "[encoded data removed]",
      "text/plain": [
       "<Figure size 640x480 with 1 Axes>"
      ]
     },
     "metadata": {},
     "output_type": "display_data"
    }
   ],
   "source": [
    "tree.plot_tree(model)"
   ]
  },
  {
   "cell_type": "markdown",
   "id": "2837f6eb-65c7-4bbf-82cf-e5f9126f310c",
   "metadata": {},
   "source": [
    "### Logistic Regression "
   ]
  },
  {
   "cell_type": "code",
   "execution_count": 13,
   "id": "6fc29f49-5e3e-4a64-b4a7-56cbb7339477",
   "metadata": {},
   "outputs": [
    {
     "name": "stdout",
     "output_type": "stream",
     "text": [
      "Performance on TEST\n",
      "*******************\n",
      "                       precision    recall  f1-score   support\n",
      "\n",
      "no-recurrence-events       0.78      0.85      0.81        61\n",
      "   recurrence-events       0.53      0.40      0.45        25\n",
      "\n",
      "            accuracy                           0.72        86\n",
      "           macro avg       0.65      0.63      0.63        86\n",
      "        weighted avg       0.70      0.72      0.71        86\n",
      "\n",
      "Performance on TRAIN\n",
      "********************\n",
      "                       precision    recall  f1-score   support\n",
      "\n",
      "no-recurrence-events       0.80      0.93      0.86       140\n",
      "   recurrence-events       0.73      0.45      0.56        60\n",
      "\n",
      "            accuracy                           0.79       200\n",
      "           macro avg       0.76      0.69      0.71       200\n",
      "        weighted avg       0.78      0.79      0.77       200\n",
      "\n"
     ]
    }
   ],
   "source": [
    "\n",
    "\n",
    "# Splitting data into features (X) and target variable (y)\n",
    "X = projectdata.drop(['class'], axis=1)\n",
    "y = projectdata['class']\n",
    "\n",
    "# Splitting data into training and testing sets\n",
    "X_train, X_test, y_train, y_test = train_test_split(X, y, test_size=0.3, random_state=1)\n",
    "combined_data = pd.concat([X_train, X_test])\n",
    "# Encoding categorical variables\n",
    "encoder = OneHotEncoder(handle_unknown='ignore')\n",
    "X_encoded = encoder.fit_transform(combined_data)\n",
    "X_train_encoded = encoder.fit_transform(X_train)\n",
    "X_test_encoded = encoder.transform(X_test)\n",
    "\n",
    "# Creating and training the logistic regression model\n",
    "model = LogisticRegression(random_state=1, max_iter=1000)\n",
    "model.fit(X_train_encoded, y_train)\n",
    "\n",
    "# Evaluating the model\n",
    "print(\"Performance on TEST\\n*******************\\n\", classification_report(y_test, model.predict(X_test_encoded)))\n",
    "print(\"Performance on TRAIN\\n********************\\n\", classification_report(y_train, model.predict(X_train_encoded)))\n"
   ]
  },
  {
   "cell_type": "code",
   "execution_count": null,
   "id": "c73839f8-a39e-462d-872f-92fd9895b9b7",
   "metadata": {},
   "outputs": [],
   "source": []
  },
  {
   "cell_type": "code",
   "execution_count": null,
   "id": "fb82fa23-17c5-4f78-8d0d-4758823373f2",
   "metadata": {},
   "outputs": [],
   "source": []
  }
 ],
 "metadata": {
  "kernelspec": {
   "display_name": "Python 3 (ipykernel)",
   "language": "python",
   "name": "python3"
  },
  "language_info": {
   "codemirror_mode": {
    "name": "ipython",
    "version": 3
   },
   "file_extension": ".py",
   "mimetype": "text/x-python",
   "name": "python",
   "nbconvert_exporter": "python",
   "pygments_lexer": "ipython3",
   "version": "3.11.1"
  }
 },
 "nbformat": 4,
 "nbformat_minor": 5
}
