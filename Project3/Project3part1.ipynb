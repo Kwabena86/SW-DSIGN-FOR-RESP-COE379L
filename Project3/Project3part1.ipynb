{
 "cells": [
  {
   "cell_type": "markdown",
   "id": "4a6d4df7-e29b-4943-9144-2ae2b59466b4",
   "metadata": {},
   "source": [
    "### PART 1. Data preprocessing and visualization"
   ]
  },
  {
   "cell_type": "code",
   "execution_count": 3,
   "id": "376dbf97-8c96-4887-bf65-bfd84984db20",
   "metadata": {},
   "outputs": [
    {
     "name": "stderr",
     "output_type": "stream",
     "text": [
      "2024-04-10 23:20:49.103682: I external/local_tsl/tsl/cuda/cudart_stub.cc:31] Could not find cuda drivers on your machine, GPU will not be used.\n",
      "2024-04-10 23:20:49.147750: E external/local_xla/xla/stream_executor/cuda/cuda_dnn.cc:9261] Unable to register cuDNN factory: Attempting to register factory for plugin cuDNN when one has already been registered\n",
      "2024-04-10 23:20:49.147792: E external/local_xla/xla/stream_executor/cuda/cuda_fft.cc:607] Unable to register cuFFT factory: Attempting to register factory for plugin cuFFT when one has already been registered\n",
      "2024-04-10 23:20:49.150476: E external/local_xla/xla/stream_executor/cuda/cuda_blas.cc:1515] Unable to register cuBLAS factory: Attempting to register factory for plugin cuBLAS when one has already been registered\n",
      "2024-04-10 23:20:49.161406: I external/local_tsl/tsl/cuda/cudart_stub.cc:31] Could not find cuda drivers on your machine, GPU will not be used.\n",
      "2024-04-10 23:20:49.163229: I tensorflow/core/platform/cpu_feature_guard.cc:182] This TensorFlow binary is optimized to use available CPU instructions in performance-critical operations.\n",
      "To enable the following instructions: AVX2 FMA, in other operations, rebuild TensorFlow with the appropriate compiler flags.\n",
      "2024-04-10 23:20:50.441463: W tensorflow/compiler/tf2tensorrt/utils/py_utils.cc:38] TF-TRT Warning: Could not find TensorRT\n"
     ]
    }
   ],
   "source": [
    "import tensorflow as tf\n",
    "from tensorflow.keras.layers.experimental.preprocessing import Rescaling"
   ]
  },
  {
   "cell_type": "code",
   "execution_count": 4,
   "id": "f6db624a-e50f-464a-9137-c277d0acff87",
   "metadata": {},
   "outputs": [],
   "source": [
    "import shutil\n",
    "try:\n",
    "    shutil.rmtree(\"data_all_modified/train\")\n",
    "    shutil.rmtree(\"data_all_modified/test\")\n",
    "except:\n",
    "    pass"
   ]
  },
  {
   "cell_type": "code",
   "execution_count": 5,
   "id": "54d63d7f-5d39-4d11-8c5a-4bd7d366e737",
   "metadata": {},
   "outputs": [],
   "source": [
    "import os\n",
    "\n",
    "# ensure directories exist\n",
    "from pathlib import Path\n",
    "Path(\"data_all_modified-split/train/damage\").mkdir(parents=True, exist_ok=True)\n",
    "Path(\"data_all_modified-split/train/no_damage\").mkdir(parents=True, exist_ok=True)\n",
    "\n",
    "Path(\"data_all_modified-split/test/damage\").mkdir(parents=True, exist_ok=True)\n",
    "Path(\"data_all_modified-split/test/no_damage\").mkdir(parents=True, exist_ok=True)"
   ]
  },
  {
   "cell_type": "code",
   "execution_count": 6,
   "id": "2dd832a4-69b7-49f4-9111-28b63ae3dd89",
   "metadata": {},
   "outputs": [],
   "source": [
    "# we need paths of images for individual classes so we can copy them in the new directories that we created above\n",
    "all_damage_file_paths = os.listdir('data_all_modified/damage')\n",
    "all_no_damage_file_paths = os.listdir('data_all_modified/no_damage')"
   ]
  },
  {
   "cell_type": "code",
   "execution_count": 7,
   "id": "04094202-bd21-47f3-93df-de07ea7a7611",
   "metadata": {},
   "outputs": [
    {
     "name": "stdout",
     "output_type": "stream",
     "text": [
      "train damage image count:  11336\n",
      "test damage image count:  2834\n",
      "len of overlap:  0\n",
      "train no damage image count:  5721\n",
      "test no damage image count:  1431\n",
      "len of overlap:  0\n"
     ]
    }
   ],
   "source": [
    "import random\n",
    "\n",
    "train_damage_paths = random.sample(all_damage_file_paths, int(len(all_damage_file_paths)*0.8))\n",
    "print(\"train damage image count: \", len(train_damage_paths))\n",
    "test_damage_paths = [ p for p in all_damage_file_paths if p not in train_damage_paths]\n",
    "print(\"test damage image count: \", len(test_damage_paths))\n",
    "# ensure no overlap:\n",
    "overlap = [p for p in train_damage_paths if p in test_damage_paths]\n",
    "print(\"len of overlap: \", len(overlap))\n",
    "\n",
    "train_no_damage_paths = random.sample(all_no_damage_file_paths, int(len(all_no_damage_file_paths)*0.8))\n",
    "print(\"train no damage image count: \", len(train_no_damage_paths))\n",
    "test_no_damage_paths = [ p for p in all_no_damage_file_paths if p not in train_no_damage_paths]\n",
    "print(\"test no damage image count: \", len(test_no_damage_paths))\n",
    "# ensure no overlap:\n",
    "overlap = [p for p in train_no_damage_paths if p in test_no_damage_paths]\n",
    "print(\"len of overlap: \", len(overlap))"
   ]
  },
  {
   "cell_type": "code",
   "execution_count": 8,
   "id": "c512fa63-30a6-4c28-acbb-8d4ef4ba515e",
   "metadata": {},
   "outputs": [
    {
     "name": "stdout",
     "output_type": "stream",
     "text": [
      "Files in train/damage:  14044\n",
      "Files in train/no_damage:  7101\n",
      "Files in test/damage:  14044\n",
      "Files in test/no_damage:  7101\n"
     ]
    }
   ],
   "source": [
    "# ensure to copy the images to the directories\n",
    "import shutil\n",
    "for p in train_damage_paths:\n",
    "    shutil.copyfile(os.path.join('data_all_modified/damage', p), os.path.join('data_all_modified-split/train/damage', p) )\n",
    "\n",
    "for p in test_damage_paths:\n",
    "    shutil.copyfile(os.path.join('data_all_modified/damage', p), os.path.join('data_all_modified-split/test/damage', p) )\n",
    "\n",
    "for p in train_no_damage_paths:\n",
    "    shutil.copyfile(os.path.join('data_all_modified/no_damage', p), os.path.join('data_all_modified-split/train/no_damage', p) )\n",
    "\n",
    "for p in test_no_damage_paths:\n",
    "    shutil.copyfile(os.path.join('data_all_modified/no_damage', p), os.path.join('data_all_modified-split/test/no_damage', p) )\n",
    "\n",
    "# check counts:\n",
    "print(\"Files in train/damage: \", len(os.listdir(\"data_all_modified-split/train/damage\")))\n",
    "print(\"Files in train/no_damage: \", len(os.listdir(\"data_all_modified-split/train/no_damage\")))\n",
    "\n",
    "print(\"Files in test/damage: \", len(os.listdir(\"data_all_modified-split/train/damage\")))\n",
    "print(\"Files in test/no_damage: \", len(os.listdir(\"data_all_modified-split/train/no_damage\")))"
   ]
  },
  {
   "cell_type": "code",
   "execution_count": 9,
   "id": "ddc82708-31ad-4458-951d-b58421cc581d",
   "metadata": {},
   "outputs": [
    {
     "name": "stdout",
     "output_type": "stream",
     "text": [
      "Found 21145 files belonging to 2 classes.\n",
      "Using 16916 files for training.\n",
      "Using 4229 files for validation.\n"
     ]
    }
   ],
   "source": [
    "import tensorflow as tf\n",
    "from tensorflow.keras.layers.experimental.preprocessing import Rescaling\n",
    "\n",
    "train_data_dir = 'data_all_modified-split/train'\n",
    "\n",
    "batch_size = 32\n",
    "# target image size\n",
    "img_height = 128\n",
    "img_width = 128\n",
    "\n",
    "# note that subset=\"training\", \"validation\", \"both\", and dictates which dataset is returned\n",
    "train_ds, val_ds = tf.keras.utils.image_dataset_from_directory(\n",
    "train_data_dir,\n",
    "validation_split=0.2,\n",
    "subset=\"both\",\n",
    "seed=123,\n",
    "image_size=(img_height, img_width),\n",
    "batch_size=batch_size\n",
    ")\n",
    "rescale = Rescaling(scale=1.0/255)\n",
    "train_rescale_ds = train_ds.map(lambda image,label:(rescale(image),label))\n",
    "val_rescale_ds = val_ds.map(lambda image,label:(rescale(image),label))"
   ]
  },
  {
   "cell_type": "code",
   "execution_count": 10,
   "id": "10f5a06f-4201-4218-a05b-541a39fe95c6",
   "metadata": {},
   "outputs": [
    {
     "name": "stdout",
     "output_type": "stream",
     "text": [
      "Found 10389 files belonging to 2 classes.\n"
     ]
    }
   ],
   "source": [
    "test_data_dir = 'data_all_modified-split/test'\n",
    "\n",
    "batch_size = 2\n",
    "# target image size\n",
    "img_height = 128\n",
    "img_width = 128\n",
    "\n",
    "# note that subset=\"training\", \"validation\", \"both\", and dictates which dataset is returned\n",
    "test_ds = tf.keras.utils.image_dataset_from_directory(\n",
    "test_data_dir,\n",
    "seed=123,\n",
    "image_size=(img_height, img_width),\n",
    ")\n",
    "rescale = Rescaling(scale=1.0/255)\n",
    "test_rescale_ds = test_ds.map(lambda image,label:(rescale(image),label))"
   ]
  },
  {
   "cell_type": "markdown",
   "id": "1d6abb09-472e-4f1c-b76e-827c374ab696",
   "metadata": {
    "jp-MarkdownHeadingCollapsed": true
   },
   "source": [
    "### PART 2. Model design, training, and evaluation. Exploring different model architectures, and identifying the model with high accuracy and validation accuracy.  "
   ]
  },
  {
   "cell_type": "markdown",
   "id": "a32d4465-8741-41bd-be4f-adf81d3769d6",
   "metadata": {},
   "source": [
    "### Building A Dense ANN"
   ]
  },
  {
   "cell_type": "code",
   "execution_count": 24,
   "id": "307ff43f-f0d6-4a69-97b2-8cd99b987d93",
   "metadata": {},
   "outputs": [
    {
     "name": "stdout",
     "output_type": "stream",
     "text": [
      "Model: \"sequential_3\"\n",
      "_________________________________________________________________\n",
      " Layer (type)                Output Shape              Param #   \n",
      "=================================================================\n",
      " conv2d_9 (Conv2D)           (None, 128, 128, 64)      1792      \n",
      "                                                                 \n",
      " max_pooling2d_7 (MaxPoolin  (None, 64, 64, 64)        0         \n",
      " g2D)                                                            \n",
      "                                                                 \n",
      " conv2d_10 (Conv2D)          (None, 64, 64, 32)        18464     \n",
      "                                                                 \n",
      " max_pooling2d_8 (MaxPoolin  (None, 32, 32, 32)        0         \n",
      " g2D)                                                            \n",
      "                                                                 \n",
      " conv2d_11 (Conv2D)          (None, 32, 32, 32)        9248      \n",
      "                                                                 \n",
      " max_pooling2d_9 (MaxPoolin  (None, 16, 16, 32)        0         \n",
      " g2D)                                                            \n",
      "                                                                 \n",
      " flatten_3 (Flatten)         (None, 8192)              0         \n",
      "                                                                 \n",
      " dense_8 (Dense)             (None, 100)               819300    \n",
      "                                                                 \n",
      " dense_9 (Dense)             (None, 84)                8484      \n",
      "                                                                 \n",
      " dense_10 (Dense)            (None, 1)                 85        \n",
      "                                                                 \n",
      "=================================================================\n",
      "Total params: 857373 (3.27 MB)\n",
      "Trainable params: 857373 (3.27 MB)\n",
      "Non-trainable params: 0 (0.00 Byte)\n",
      "_________________________________________________________________\n"
     ]
    }
   ],
   "source": [
    "from keras import layers\n",
    "from keras import models\n",
    "import pandas as pd\n",
    "from keras import optimizers\n",
    "\n",
    "# Intializing a sequential model\n",
    "model_cnn = models.Sequential()\n",
    "\n",
    "# Adding first conv layer with 64 filters and kernel size 3x3 , padding 'same' provides the output size same as the input size\n",
    "model_cnn.add(layers.Conv2D(64, (3, 3), activation='relu', padding=\"same\", input_shape=(128,128,3)))\n",
    "\n",
    "# Adding max pooling to reduce the size of output of first conv layer\n",
    "model_cnn.add(layers.MaxPooling2D((2, 2), padding = 'same'))\n",
    "\n",
    "model_cnn.add(layers.Conv2D(32, (3, 3), activation='relu', padding=\"same\"))\n",
    "model_cnn.add(layers.MaxPooling2D((2, 2), padding = 'same'))\n",
    "\n",
    "model_cnn.add(layers.Conv2D(32, (3, 3), activation='relu', padding=\"same\"))\n",
    "model_cnn.add(layers.MaxPooling2D((2, 2), padding = 'same'))\n",
    "\n",
    "# flattening the output of the conv layer after max pooling to make it ready for creating dense connections\n",
    "model_cnn.add(layers.Flatten())\n",
    "\n",
    "# Adding a fully connected dense layer with 100 neurons\n",
    "model_cnn.add(layers.Dense(100, activation='relu'))\n",
    "\n",
    "# Adding a fully connected dense layer with 84 neurons\n",
    "model_cnn.add(layers.Dense(84, activation='relu'))\n",
    "\n",
    "# Adding the output layer with * neurons and activation functions as softmax since this is a multi-class classification problem\n",
    "model_cnn.add(layers.Dense(1, activation='sigmoid'))\n",
    "\n",
    "# Compile model\n",
    "# RMSprop (Root Mean Square Propagation) is commonly used in training deep neural networks.\n",
    "model_cnn.compile(optimizer=optimizers.RMSprop(learning_rate=1e-4), loss='binary_crossentropy', metrics=['accuracy'])\n",
    "\n",
    "# Generating the summary of the model\n",
    "model_cnn.summary()"
   ]
  },
  {
   "cell_type": "code",
   "execution_count": 25,
   "id": "95b1fbb6-cbc3-4b3b-878f-50eea15206a1",
   "metadata": {},
   "outputs": [
    {
     "name": "stdout",
     "output_type": "stream",
     "text": [
      "Epoch 1/20\n",
      "529/529 [==============================] - 148s 278ms/step - loss: 0.5825 - accuracy: 0.7135 - val_loss: 0.4529 - val_accuracy: 0.8243\n",
      "Epoch 2/20\n",
      "529/529 [==============================] - 148s 280ms/step - loss: 0.4427 - accuracy: 0.8079 - val_loss: 0.4102 - val_accuracy: 0.8446\n",
      "Epoch 3/20\n",
      "529/529 [==============================] - 148s 279ms/step - loss: 0.3855 - accuracy: 0.8378 - val_loss: 0.3857 - val_accuracy: 0.8312\n",
      "Epoch 4/20\n",
      "529/529 [==============================] - 146s 275ms/step - loss: 0.3203 - accuracy: 0.8695 - val_loss: 0.3689 - val_accuracy: 0.8449\n",
      "Epoch 5/20\n",
      "529/529 [==============================] - 148s 280ms/step - loss: 0.2533 - accuracy: 0.9010 - val_loss: 0.2098 - val_accuracy: 0.9236\n",
      "Epoch 6/20\n",
      "529/529 [==============================] - 143s 271ms/step - loss: 0.1972 - accuracy: 0.9239 - val_loss: 0.2066 - val_accuracy: 0.9177\n",
      "Epoch 7/20\n",
      "529/529 [==============================] - 142s 268ms/step - loss: 0.1661 - accuracy: 0.9359 - val_loss: 0.1788 - val_accuracy: 0.9288\n",
      "Epoch 8/20\n",
      "529/529 [==============================] - 145s 273ms/step - loss: 0.1455 - accuracy: 0.9450 - val_loss: 0.1744 - val_accuracy: 0.9310\n",
      "Epoch 9/20\n",
      "529/529 [==============================] - 145s 273ms/step - loss: 0.1292 - accuracy: 0.9487 - val_loss: 0.1128 - val_accuracy: 0.9600\n",
      "Epoch 10/20\n",
      "529/529 [==============================] - 144s 272ms/step - loss: 0.1179 - accuracy: 0.9547 - val_loss: 0.1067 - val_accuracy: 0.9631\n",
      "Epoch 11/20\n",
      "529/529 [==============================] - 145s 274ms/step - loss: 0.1089 - accuracy: 0.9584 - val_loss: 0.1128 - val_accuracy: 0.9579\n",
      "Epoch 12/20\n",
      "529/529 [==============================] - 143s 271ms/step - loss: 0.1012 - accuracy: 0.9620 - val_loss: 0.1132 - val_accuracy: 0.9615\n",
      "Epoch 13/20\n",
      "529/529 [==============================] - 145s 274ms/step - loss: 0.0951 - accuracy: 0.9638 - val_loss: 0.1837 - val_accuracy: 0.9281\n",
      "Epoch 14/20\n",
      "529/529 [==============================] - 145s 274ms/step - loss: 0.0875 - accuracy: 0.9657 - val_loss: 0.1270 - val_accuracy: 0.9546\n",
      "Epoch 15/20\n",
      "529/529 [==============================] - 144s 272ms/step - loss: 0.0831 - accuracy: 0.9677 - val_loss: 0.1689 - val_accuracy: 0.9354\n",
      "Epoch 16/20\n",
      "529/529 [==============================] - 145s 273ms/step - loss: 0.0752 - accuracy: 0.9716 - val_loss: 0.0992 - val_accuracy: 0.9626\n",
      "Epoch 17/20\n",
      "529/529 [==============================] - 143s 269ms/step - loss: 0.0702 - accuracy: 0.9742 - val_loss: 0.0832 - val_accuracy: 0.9707\n",
      "Epoch 18/20\n",
      "529/529 [==============================] - 142s 269ms/step - loss: 0.0659 - accuracy: 0.9751 - val_loss: 0.0873 - val_accuracy: 0.9681\n",
      "Epoch 19/20\n",
      "529/529 [==============================] - 146s 276ms/step - loss: 0.0603 - accuracy: 0.9770 - val_loss: 0.1420 - val_accuracy: 0.9548\n",
      "Epoch 20/20\n",
      "529/529 [==============================] - 144s 272ms/step - loss: 0.0569 - accuracy: 0.9793 - val_loss: 0.0942 - val_accuracy: 0.9641\n"
     ]
    }
   ],
   "source": [
    "#fit the model from image generator\n",
    "history = model_cnn.fit(\n",
    "            train_rescale_ds,\n",
    "            batch_size=32,\n",
    "            epochs=20,\n",
    "            validation_data=val_rescale_ds\n",
    ")"
   ]
  },
  {
   "cell_type": "code",
   "execution_count": 39,
   "id": "18f466a4-5aa5-4d92-aa1d-474d6cb48773",
   "metadata": {},
   "outputs": [
    {
     "name": "stdout",
     "output_type": "stream",
     "text": [
      "325/325 [==============================] - 24s 72ms/step - loss: 0.0583 - accuracy: 0.9786\n"
     ]
    },
    {
     "data": {
      "text/plain": [
       "0.9786312580108643"
      ]
     },
     "execution_count": 39,
     "metadata": {},
     "output_type": "execute_result"
    }
   ],
   "source": [
    "test_loss, test_accuracy = model_cnn.evaluate(test_rescale_ds, verbose=1)\n",
    "test_accuracy"
   ]
  },
  {
   "cell_type": "code",
   "execution_count": 38,
   "id": "186049cc",
   "metadata": {},
   "outputs": [],
   "source": [
    "model_cnn.save(\"hurricane_cnn.keras\")"
   ]
  },
  {
   "cell_type": "markdown",
   "id": "445a7901-72f8-46b8-a886-c41e0398a4fe",
   "metadata": {},
   "source": [
    "### The Lenet-5 CNN architecture"
   ]
  },
  {
   "cell_type": "code",
   "execution_count": 30,
   "id": "ccf6c12c-4dc8-4e59-9016-22d721ffc580",
   "metadata": {},
   "outputs": [
    {
     "name": "stdout",
     "output_type": "stream",
     "text": [
      "Model: \"sequential_4\"\n",
      "_________________________________________________________________\n",
      " Layer (type)                Output Shape              Param #   \n",
      "=================================================================\n",
      " conv2d_12 (Conv2D)          (None, 126, 126, 6)       168       \n",
      "                                                                 \n",
      " average_pooling2d_2 (Avera  (None, 63, 63, 6)         0         \n",
      " gePooling2D)                                                    \n",
      "                                                                 \n",
      " conv2d_13 (Conv2D)          (None, 61, 61, 16)        880       \n",
      "                                                                 \n",
      " average_pooling2d_3 (Avera  (None, 30, 30, 16)        0         \n",
      " gePooling2D)                                                    \n",
      "                                                                 \n",
      " flatten_4 (Flatten)         (None, 14400)             0         \n",
      "                                                                 \n",
      " dense_11 (Dense)            (None, 120)               1728120   \n",
      "                                                                 \n",
      " dense_12 (Dense)            (None, 84)                10164     \n",
      "                                                                 \n",
      " dense_13 (Dense)            (None, 1)                 85        \n",
      "                                                                 \n",
      "=================================================================\n",
      "Total params: 1739417 (6.64 MB)\n",
      "Trainable params: 1739417 (6.64 MB)\n",
      "Non-trainable params: 0 (0.00 Byte)\n",
      "_________________________________________________________________\n"
     ]
    }
   ],
   "source": [
    "from keras import layers\n",
    "from keras import models\n",
    "import pandas as pd\n",
    "from tensorflow.keras import optimizers\n",
    "from tensorflow.keras import layers, models, optimizers\n",
    "model_lenet5 = models.Sequential()\n",
    "\n",
    "# Layer 1: Convolutional layer with 6 filters of size 3x3, followed by average pooling\n",
    "model_lenet5.add(layers.Conv2D(6, kernel_size=(3, 3), activation='relu', input_shape=(128,128,3)))\n",
    "model_lenet5.add(layers.AveragePooling2D(pool_size=(2, 2)))\n",
    "\n",
    "# Layer 2: Convolutional layer with 16 filters of size 3x3, followed by average pooling\n",
    "model_lenet5.add(layers.Conv2D(16, kernel_size=(3, 3), activation='relu'))\n",
    "model_lenet5.add(layers.AveragePooling2D(pool_size=(2, 2)))\n",
    "\n",
    "# Flatten the feature maps to feed into fully connected layers\n",
    "model_lenet5.add(layers.Flatten())\n",
    "\n",
    "# Layer 3: Fully connected layer with 120 neurons\n",
    "model_lenet5.add(layers.Dense(120, activation='relu'))\n",
    "\n",
    "# Layer 4: Fully connected layer with 84 neurons\n",
    "model_lenet5.add(layers.Dense(84, activation='relu'))\n",
    "\n",
    "# Output layer: Fully connected layer with num_classes neurons (e.g., 3 )\n",
    "model_lenet5.add(layers.Dense(1, activation='sigmoid'))\n",
    "\n",
    "# Compile model\n",
    "model_lenet5.compile(optimizer=optimizers.RMSprop(learning_rate=1e-4), loss='binary_crossentropy', metrics=['accuracy'])\n",
    "\n",
    "# Generating the summary of the model\n",
    "model_lenet5.summary()"
   ]
  },
  {
   "cell_type": "code",
   "execution_count": 31,
   "id": "f8a664f7-b1e4-4177-ab7a-8551555b27e8",
   "metadata": {},
   "outputs": [
    {
     "name": "stdout",
     "output_type": "stream",
     "text": [
      "Epoch 1/20\n",
      "529/529 [==============================] - 30s 56ms/step - loss: 0.6185 - accuracy: 0.6810 - val_loss: 0.6344 - val_accuracy: 0.6529\n",
      "Epoch 2/20\n",
      "529/529 [==============================] - 30s 57ms/step - loss: 0.5363 - accuracy: 0.7471 - val_loss: 0.5294 - val_accuracy: 0.7151\n",
      "Epoch 3/20\n",
      "529/529 [==============================] - 30s 56ms/step - loss: 0.4574 - accuracy: 0.8061 - val_loss: 0.4790 - val_accuracy: 0.7593\n",
      "Epoch 4/20\n",
      "529/529 [==============================] - 30s 56ms/step - loss: 0.4099 - accuracy: 0.8368 - val_loss: 0.4281 - val_accuracy: 0.8044\n",
      "Epoch 5/20\n",
      "529/529 [==============================] - 30s 56ms/step - loss: 0.3828 - accuracy: 0.8496 - val_loss: 0.3545 - val_accuracy: 0.8697\n",
      "Epoch 6/20\n",
      "529/529 [==============================] - 29s 55ms/step - loss: 0.3626 - accuracy: 0.8587 - val_loss: 0.6147 - val_accuracy: 0.7354\n",
      "Epoch 7/20\n",
      "529/529 [==============================] - 29s 56ms/step - loss: 0.3480 - accuracy: 0.8665 - val_loss: 0.3247 - val_accuracy: 0.8799\n",
      "Epoch 8/20\n",
      "529/529 [==============================] - 29s 55ms/step - loss: 0.3342 - accuracy: 0.8727 - val_loss: 0.3053 - val_accuracy: 0.8853\n",
      "Epoch 9/20\n",
      "529/529 [==============================] - 29s 56ms/step - loss: 0.3181 - accuracy: 0.8773 - val_loss: 0.3053 - val_accuracy: 0.8822\n",
      "Epoch 10/20\n",
      "529/529 [==============================] - 30s 56ms/step - loss: 0.3060 - accuracy: 0.8824 - val_loss: 0.3391 - val_accuracy: 0.8763\n",
      "Epoch 11/20\n",
      "529/529 [==============================] - 29s 55ms/step - loss: 0.2927 - accuracy: 0.8905 - val_loss: 0.2746 - val_accuracy: 0.8938\n",
      "Epoch 12/20\n",
      "529/529 [==============================] - 29s 56ms/step - loss: 0.2787 - accuracy: 0.8964 - val_loss: 0.2674 - val_accuracy: 0.8988\n",
      "Epoch 13/20\n",
      "529/529 [==============================] - 29s 56ms/step - loss: 0.2683 - accuracy: 0.9000 - val_loss: 0.3354 - val_accuracy: 0.8638\n",
      "Epoch 14/20\n",
      "529/529 [==============================] - 29s 55ms/step - loss: 0.2576 - accuracy: 0.9012 - val_loss: 0.2562 - val_accuracy: 0.8971\n",
      "Epoch 15/20\n",
      "529/529 [==============================] - 29s 55ms/step - loss: 0.2396 - accuracy: 0.9063 - val_loss: 0.2341 - val_accuracy: 0.9085\n",
      "Epoch 16/20\n",
      "529/529 [==============================] - 29s 55ms/step - loss: 0.2289 - accuracy: 0.9103 - val_loss: 0.2295 - val_accuracy: 0.9087\n",
      "Epoch 17/20\n",
      "529/529 [==============================] - 29s 55ms/step - loss: 0.2125 - accuracy: 0.9167 - val_loss: 0.2210 - val_accuracy: 0.9097\n",
      "Epoch 18/20\n",
      "529/529 [==============================] - 29s 55ms/step - loss: 0.2026 - accuracy: 0.9202 - val_loss: 0.2168 - val_accuracy: 0.9125\n",
      "Epoch 19/20\n",
      "529/529 [==============================] - 29s 55ms/step - loss: 0.1876 - accuracy: 0.9263 - val_loss: 0.2104 - val_accuracy: 0.9104\n",
      "Epoch 20/20\n",
      "529/529 [==============================] - 29s 55ms/step - loss: 0.1780 - accuracy: 0.9307 - val_loss: 0.2019 - val_accuracy: 0.9198\n"
     ]
    }
   ],
   "source": [
    "#fit the model from image generator\n",
    "history = model_lenet5.fit(\n",
    "            train_rescale_ds,\n",
    "            batch_size=32,\n",
    "            epochs=20,\n",
    "            validation_data=val_rescale_ds\n",
    ")"
   ]
  },
  {
   "cell_type": "code",
   "execution_count": 32,
   "id": "00bba7a9-86d2-4e0d-9054-d9a6529d3e79",
   "metadata": {},
   "outputs": [
    {
     "data": {
      "text/plain": [
       "0.936663806438446"
      ]
     },
     "execution_count": 32,
     "metadata": {},
     "output_type": "execute_result"
    }
   ],
   "source": [
    "test_loss, test_accuracy = model_lenet5.evaluate(test_rescale_ds, verbose=0)\n",
    "test_accuracy"
   ]
  },
  {
   "cell_type": "code",
   "execution_count": 33,
   "id": "9430353f",
   "metadata": {},
   "outputs": [],
   "source": [
    "model_lenet5.save(\"hurricane_lenet.keras\")"
   ]
  },
  {
   "cell_type": "markdown",
   "id": "43bffab5-a9c4-49fe-8533-8603288bd654",
   "metadata": {},
   "source": [
    "### Alternate-Lenet-5 CNN Architecture"
   ]
  },
  {
   "cell_type": "code",
   "execution_count": 34,
   "id": "0dec8147-3537-4792-896c-2175dd551f10",
   "metadata": {},
   "outputs": [
    {
     "name": "stdout",
     "output_type": "stream",
     "text": [
      "Model: \"sequential_5\"\n",
      "_________________________________________________________________\n",
      " Layer (type)                Output Shape              Param #   \n",
      "=================================================================\n",
      " conv2d_14 (Conv2D)          (None, 126, 126, 32)      896       \n",
      "                                                                 \n",
      " max_pooling2d_10 (MaxPooli  (None, 63, 63, 32)        0         \n",
      " ng2D)                                                           \n",
      "                                                                 \n",
      " conv2d_15 (Conv2D)          (None, 61, 61, 64)        18496     \n",
      "                                                                 \n",
      " max_pooling2d_11 (MaxPooli  (None, 30, 30, 64)        0         \n",
      " ng2D)                                                           \n",
      "                                                                 \n",
      " conv2d_16 (Conv2D)          (None, 28, 28, 128)       73856     \n",
      "                                                                 \n",
      " max_pooling2d_12 (MaxPooli  (None, 14, 14, 128)       0         \n",
      " ng2D)                                                           \n",
      "                                                                 \n",
      " conv2d_17 (Conv2D)          (None, 12, 12, 128)       147584    \n",
      "                                                                 \n",
      " max_pooling2d_13 (MaxPooli  (None, 6, 6, 128)         0         \n",
      " ng2D)                                                           \n",
      "                                                                 \n",
      " flatten_5 (Flatten)         (None, 4608)              0         \n",
      "                                                                 \n",
      " dense_14 (Dense)            (None, 512)               2359808   \n",
      "                                                                 \n",
      " dense_15 (Dense)            (None, 1)                 513       \n",
      "                                                                 \n",
      "=================================================================\n",
      "Total params: 2601153 (9.92 MB)\n",
      "Trainable params: 2601153 (9.92 MB)\n",
      "Non-trainable params: 0 (0.00 Byte)\n",
      "_________________________________________________________________\n"
     ]
    }
   ],
   "source": [
    "model_Altlenet5 = models.Sequential()\n",
    "# Layer 1: Convolutional layer with 6 filters of size 3x3, followed by average pooling\n",
    "model_Altlenet5.add(layers.Conv2D(32, kernel_size=(3, 3), activation='relu', input_shape=(128,128,3)))\n",
    "model_Altlenet5.add(layers.MaxPooling2D(pool_size=(2, 2)))\n",
    "\n",
    "# Layer 2: Convolutional layer with 16 filters of size 3x3, followed by average pooling\n",
    "model_Altlenet5.add(layers.Conv2D(64, kernel_size=(3, 3), activation='relu'))\n",
    "model_Altlenet5.add(layers.MaxPooling2D(pool_size=(2, 2)))\n",
    "\n",
    "# Layer 3: Convolutional layer with 16 filters of size 3x3, followed by average pooling\n",
    "model_Altlenet5.add(layers.Conv2D(128, kernel_size=(3, 3), activation='relu'))\n",
    "model_Altlenet5.add(layers.MaxPooling2D(pool_size=(2, 2)))\n",
    "\n",
    "# Layer 4: Convolutional layer with 16 filters of size 3x3, followed by average pooling\n",
    "model_Altlenet5.add(layers.Conv2D(128, kernel_size=(3, 3), activation='relu'))\n",
    "model_Altlenet5.add(layers.MaxPooling2D(pool_size=(2, 2)))\n",
    "\n",
    "# Flatten the feature maps to feed into fully connected layers\n",
    "model_Altlenet5.add(layers.Flatten())\n",
    "\n",
    "# Layer 3: Fully connected layer with 32 neurons\n",
    "model_Altlenet5.add(layers.Dense(512, activation='relu'))\n",
    "\n",
    "# Output layer: Fully connected layer with num_classes neurons (e.g., 3 )\n",
    "model_Altlenet5.add(layers.Dense(1, activation='sigmoid'))\n",
    "\n",
    "# Compile model\n",
    "model_Altlenet5.compile(optimizer=optimizers.RMSprop(learning_rate=1e-4), loss='binary_crossentropy', metrics=['accuracy'])\n",
    "\n",
    "# Generating the summary of the model\n",
    "model_Altlenet5.summary()"
   ]
  },
  {
   "cell_type": "code",
   "execution_count": 35,
   "id": "9b098333-36ee-4387-9f3b-83777c0fd617",
   "metadata": {},
   "outputs": [
    {
     "name": "stdout",
     "output_type": "stream",
     "text": [
      "Epoch 1/20\n",
      "529/529 [==============================] - 114s 213ms/step - loss: 0.5166 - accuracy: 0.7570 - val_loss: 0.4172 - val_accuracy: 0.8345\n",
      "Epoch 2/20\n",
      "529/529 [==============================] - 112s 211ms/step - loss: 0.3629 - accuracy: 0.8459 - val_loss: 0.3079 - val_accuracy: 0.8749\n",
      "Epoch 3/20\n",
      "529/529 [==============================] - 109s 206ms/step - loss: 0.2828 - accuracy: 0.8854 - val_loss: 0.2846 - val_accuracy: 0.8827\n",
      "Epoch 4/20\n",
      "529/529 [==============================] - 112s 211ms/step - loss: 0.2186 - accuracy: 0.9135 - val_loss: 0.2131 - val_accuracy: 0.9168\n",
      "Epoch 5/20\n",
      "529/529 [==============================] - 111s 209ms/step - loss: 0.1812 - accuracy: 0.9279 - val_loss: 0.1918 - val_accuracy: 0.9255\n",
      "Epoch 6/20\n",
      "529/529 [==============================] - 111s 210ms/step - loss: 0.1515 - accuracy: 0.9402 - val_loss: 0.1397 - val_accuracy: 0.9461\n",
      "Epoch 7/20\n",
      "529/529 [==============================] - 110s 209ms/step - loss: 0.1299 - accuracy: 0.9484 - val_loss: 0.2169 - val_accuracy: 0.9189\n",
      "Epoch 8/20\n",
      "529/529 [==============================] - 110s 209ms/step - loss: 0.1155 - accuracy: 0.9544 - val_loss: 0.1111 - val_accuracy: 0.9563\n",
      "Epoch 9/20\n",
      "529/529 [==============================] - 113s 214ms/step - loss: 0.1052 - accuracy: 0.9588 - val_loss: 0.0905 - val_accuracy: 0.9676\n",
      "Epoch 10/20\n",
      "529/529 [==============================] - 113s 214ms/step - loss: 0.0975 - accuracy: 0.9626 - val_loss: 0.1117 - val_accuracy: 0.9560\n",
      "Epoch 11/20\n",
      "529/529 [==============================] - 114s 216ms/step - loss: 0.0907 - accuracy: 0.9640 - val_loss: 0.0785 - val_accuracy: 0.9707\n",
      "Epoch 12/20\n",
      "529/529 [==============================] - 112s 211ms/step - loss: 0.0846 - accuracy: 0.9672 - val_loss: 0.1035 - val_accuracy: 0.9603\n",
      "Epoch 13/20\n",
      "529/529 [==============================] - 112s 211ms/step - loss: 0.0792 - accuracy: 0.9691 - val_loss: 0.1429 - val_accuracy: 0.9435\n",
      "Epoch 14/20\n",
      "529/529 [==============================] - 112s 211ms/step - loss: 0.0732 - accuracy: 0.9725 - val_loss: 0.0961 - val_accuracy: 0.9617\n",
      "Epoch 15/20\n",
      "529/529 [==============================] - 115s 216ms/step - loss: 0.0713 - accuracy: 0.9729 - val_loss: 0.0692 - val_accuracy: 0.9764\n",
      "Epoch 16/20\n",
      "529/529 [==============================] - 121s 228ms/step - loss: 0.0643 - accuracy: 0.9758 - val_loss: 0.0848 - val_accuracy: 0.9657\n",
      "Epoch 17/20\n",
      "529/529 [==============================] - 115s 216ms/step - loss: 0.0597 - accuracy: 0.9763 - val_loss: 0.0735 - val_accuracy: 0.9723\n",
      "Epoch 18/20\n",
      "529/529 [==============================] - 110s 208ms/step - loss: 0.0551 - accuracy: 0.9788 - val_loss: 0.0826 - val_accuracy: 0.9700\n",
      "Epoch 19/20\n",
      "529/529 [==============================] - 115s 217ms/step - loss: 0.0504 - accuracy: 0.9813 - val_loss: 0.0684 - val_accuracy: 0.9738\n",
      "Epoch 20/20\n",
      "529/529 [==============================] - 113s 214ms/step - loss: 0.0493 - accuracy: 0.9813 - val_loss: 0.0792 - val_accuracy: 0.9709\n"
     ]
    }
   ],
   "source": [
    "history = model_Altlenet5.fit(\n",
    "            train_rescale_ds,\n",
    "            batch_size=32,\n",
    "            epochs=20,\n",
    "            validation_data=val_rescale_ds\n",
    ")"
   ]
  },
  {
   "cell_type": "code",
   "execution_count": 36,
   "id": "813e93c1-441b-490a-88c3-9dccb11b410c",
   "metadata": {},
   "outputs": [
    {
     "data": {
      "text/plain": [
       "0.9802675843238831"
      ]
     },
     "execution_count": 36,
     "metadata": {},
     "output_type": "execute_result"
    }
   ],
   "source": [
    "test_loss, test_accuracy = model_Altlenet5.evaluate(test_rescale_ds, verbose=0)\n",
    "test_accuracy"
   ]
  },
  {
   "cell_type": "code",
   "execution_count": 1,
   "id": "8155658c-cc48-4484-a65f-69bbf9bdcb33",
   "metadata": {},
   "outputs": [
    {
     "ename": "NameError",
     "evalue": "name 'model_Altlenet5' is not defined",
     "output_type": "error",
     "traceback": [
      "\u001b[0;31m---------------------------------------------------------------------------\u001b[0m",
      "\u001b[0;31mNameError\u001b[0m                                 Traceback (most recent call last)",
      "Cell \u001b[0;32mIn[1], line 1\u001b[0m\n\u001b[0;32m----> 1\u001b[0m \u001b[43mmodel_Altlenet5\u001b[49m\u001b[38;5;241m.\u001b[39msave(\u001b[38;5;124m\"\u001b[39m\u001b[38;5;124mhurricane_alt.keras\u001b[39m\u001b[38;5;124m\"\u001b[39m)\n",
      "\u001b[0;31mNameError\u001b[0m: name 'model_Altlenet5' is not defined"
     ]
    }
   ],
   "source": [
    "model_Altlenet5.save(\"hurricane_alt.keras\")"
   ]
  }
 ],
 "metadata": {
  "kernelspec": {
   "display_name": "Python 3 (ipykernel)",
   "language": "python",
   "name": "python3"
  },
  "language_info": {
   "codemirror_mode": {
    "name": "ipython",
    "version": 3
   },
   "file_extension": ".py",
   "mimetype": "text/x-python",
   "name": "python",
   "nbconvert_exporter": "python",
   "pygments_lexer": "ipython3",
   "version": "3.11.1"
  }
 },
 "nbformat": 4,
 "nbformat_minor": 5
}
